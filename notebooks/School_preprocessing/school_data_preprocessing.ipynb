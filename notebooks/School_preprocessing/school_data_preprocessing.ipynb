{
 "cells": [
  {
   "cell_type": "markdown",
   "metadata": {},
   "source": [
    "# School preprocessing\n",
    "\n",
    "This notebook aggregates the School data such that the relevant fields are extracted and the data is neatly formatted into a csv wherein the rows are associated with an SA2"
   ]
  },
  {
   "cell_type": "code",
   "execution_count": 5,
   "metadata": {},
   "outputs": [],
   "source": [
    "import pandas as pd\n",
    "import geopandas as gpd\n",
    "from shapely import Point"
   ]
  },
  {
   "cell_type": "code",
   "execution_count": 6,
   "metadata": {},
   "outputs": [
    {
     "data": {
      "text/html": [
       "<div>\n",
       "<style scoped>\n",
       "    .dataframe tbody tr th:only-of-type {\n",
       "        vertical-align: middle;\n",
       "    }\n",
       "\n",
       "    .dataframe tbody tr th {\n",
       "        vertical-align: top;\n",
       "    }\n",
       "\n",
       "    .dataframe thead th {\n",
       "        text-align: right;\n",
       "    }\n",
       "</style>\n",
       "<table border=\"1\" class=\"dataframe\">\n",
       "  <thead>\n",
       "    <tr style=\"text-align: right;\">\n",
       "      <th></th>\n",
       "      <th>school_name</th>\n",
       "      <th>school_type</th>\n",
       "      <th>median_score</th>\n",
       "      <th>price_local</th>\n",
       "      <th>ELC</th>\n",
       "      <th>Kinder</th>\n",
       "      <th>Primary</th>\n",
       "      <th>Secondary</th>\n",
       "      <th>href</th>\n",
       "      <th>latitude</th>\n",
       "      <th>longitude</th>\n",
       "      <th>average_price</th>\n",
       "    </tr>\n",
       "  </thead>\n",
       "  <tbody>\n",
       "    <tr>\n",
       "      <th>1696</th>\n",
       "      <td>Ozford College</td>\n",
       "      <td>independent</td>\n",
       "      <td>21.18</td>\n",
       "      <td>$20000</td>\n",
       "      <td>False</td>\n",
       "      <td>True</td>\n",
       "      <td>True</td>\n",
       "      <td>True</td>\n",
       "      <td>https://www.aroundschools.com.au/schools/detai...</td>\n",
       "      <td>-37.810607</td>\n",
       "      <td>144.968516</td>\n",
       "      <td>20000.0</td>\n",
       "    </tr>\n",
       "    <tr>\n",
       "      <th>1698</th>\n",
       "      <td>Hallam Secondary College</td>\n",
       "      <td>government</td>\n",
       "      <td>22.55</td>\n",
       "      <td>$12210 - $13640</td>\n",
       "      <td>False</td>\n",
       "      <td>True</td>\n",
       "      <td>True</td>\n",
       "      <td>True</td>\n",
       "      <td>https://www.aroundschools.com.au/schools/detai...</td>\n",
       "      <td>-38.000470</td>\n",
       "      <td>145.264404</td>\n",
       "      <td>12925.0</td>\n",
       "    </tr>\n",
       "    <tr>\n",
       "      <th>1700</th>\n",
       "      <td>Bundoora Secondary College</td>\n",
       "      <td>government</td>\n",
       "      <td>23.27</td>\n",
       "      <td>$10990 - $12270</td>\n",
       "      <td>False</td>\n",
       "      <td>True</td>\n",
       "      <td>True</td>\n",
       "      <td>True</td>\n",
       "      <td>https://www.aroundschools.com.au/schools/detai...</td>\n",
       "      <td>-37.707084</td>\n",
       "      <td>145.063980</td>\n",
       "      <td>11630.0</td>\n",
       "    </tr>\n",
       "    <tr>\n",
       "      <th>1705</th>\n",
       "      <td>East Preston Islamic College</td>\n",
       "      <td>government</td>\n",
       "      <td>23.64</td>\n",
       "      <td>$1000</td>\n",
       "      <td>False</td>\n",
       "      <td>True</td>\n",
       "      <td>True</td>\n",
       "      <td>True</td>\n",
       "      <td>https://www.aroundschools.com.au/schools/detai...</td>\n",
       "      <td>-37.733847</td>\n",
       "      <td>145.035968</td>\n",
       "      <td>1000.0</td>\n",
       "    </tr>\n",
       "    <tr>\n",
       "      <th>1725</th>\n",
       "      <td>Ararat College</td>\n",
       "      <td>catholic</td>\n",
       "      <td>24.70</td>\n",
       "      <td>$3130 - $3715</td>\n",
       "      <td>False</td>\n",
       "      <td>True</td>\n",
       "      <td>True</td>\n",
       "      <td>True</td>\n",
       "      <td>https://www.aroundschools.com.au/schools/detai...</td>\n",
       "      <td>-37.286014</td>\n",
       "      <td>142.922124</td>\n",
       "      <td>3422.5</td>\n",
       "    </tr>\n",
       "  </tbody>\n",
       "</table>\n",
       "</div>"
      ],
      "text/plain": [
       "                       school_name  school_type  median_score  \\\n",
       "1696                Ozford College  independent         21.18   \n",
       "1698      Hallam Secondary College   government         22.55   \n",
       "1700    Bundoora Secondary College   government         23.27   \n",
       "1705  East Preston Islamic College   government         23.64   \n",
       "1725                Ararat College     catholic         24.70   \n",
       "\n",
       "          price_local    ELC  Kinder  Primary  Secondary  \\\n",
       "1696           $20000  False    True     True       True   \n",
       "1698  $12210 - $13640  False    True     True       True   \n",
       "1700  $10990 - $12270  False    True     True       True   \n",
       "1705            $1000  False    True     True       True   \n",
       "1725    $3130 - $3715  False    True     True       True   \n",
       "\n",
       "                                                   href   latitude  \\\n",
       "1696  https://www.aroundschools.com.au/schools/detai... -37.810607   \n",
       "1698  https://www.aroundschools.com.au/schools/detai... -38.000470   \n",
       "1700  https://www.aroundschools.com.au/schools/detai... -37.707084   \n",
       "1705  https://www.aroundschools.com.au/schools/detai... -37.733847   \n",
       "1725  https://www.aroundschools.com.au/schools/detai... -37.286014   \n",
       "\n",
       "       longitude  average_price  \n",
       "1696  144.968516        20000.0  \n",
       "1698  145.264404        12925.0  \n",
       "1700  145.063980        11630.0  \n",
       "1705  145.035968         1000.0  \n",
       "1725  142.922124         3422.5  "
      ]
     },
     "execution_count": 6,
     "metadata": {},
     "output_type": "execute_result"
    }
   ],
   "source": [
    "df = pd.read_csv(\"../../data/landing/school_data.csv\")\n",
    "\n",
    "def convert_price(price):\n",
    "    if pd.isna(price):\n",
    "        return 0  # Replace NaN with 0\n",
    "    if '-' in price:\n",
    "        # If the price is a range, split it and take the average\n",
    "        price_range = price.replace('$', '').split(' - ')\n",
    "        return sum([float(p) for p in price_range]) / len(price_range)\n",
    "    else:\n",
    "        # If it's a single price, just remove the $ and convert to float\n",
    "        return float(price.replace('$', ''))\n",
    "\n",
    "# Apply the price conversion function directly on the original DataFrame 'df' before converting it to a GeoDataFrame\n",
    "df['average_price'] = df['price_local'].apply(convert_price)\n",
    "df = df[df['average_price'] > 0]\n",
    "\n",
    "filtered_df = df[df['median_score'].notna()]\n",
    "filtered_df.head()"
   ]
  },
  {
   "cell_type": "code",
   "execution_count": 7,
   "metadata": {},
   "outputs": [],
   "source": [
    "# Create geometry from the latitude and longitude\n",
    "df['geometry'] = filtered_df.apply(lambda row: Point(row['longitude'], row['latitude']), axis=1)\n",
    "\n",
    "# Convert to a GeoDataFrame\n",
    "gdf = gpd.GeoDataFrame(df, geometry='geometry')"
   ]
  },
  {
   "cell_type": "code",
   "execution_count": 8,
   "metadata": {},
   "outputs": [],
   "source": [
    "SA2 = gpd.read_file(\"../../data/landing/SAL_data/\")"
   ]
  },
  {
   "cell_type": "code",
   "execution_count": 9,
   "metadata": {},
   "outputs": [
    {
     "name": "stderr",
     "output_type": "stream",
     "text": [
      "/var/folders/vs/mmhmvz2124bdlbwz4b6zdqqh0000gn/T/ipykernel_70550/217267687.py:1: UserWarning: CRS mismatch between the CRS of left geometries and the CRS of right geometries.\n",
      "Use `to_crs()` to reproject one of the input geometries to match the CRS of the other.\n",
      "\n",
      "Left CRS: EPSG:7844\n",
      "Right CRS: None\n",
      "\n",
      "  schools_in_sa2 = gpd.sjoin(SA2, gdf , how=\"inner\", predicate=\"intersects\")\n"
     ]
    }
   ],
   "source": [
    "schools_in_sa2 = gpd.sjoin(SA2, gdf , how=\"inner\", predicate=\"intersects\")"
   ]
  },
  {
   "cell_type": "code",
   "execution_count": 10,
   "metadata": {},
   "outputs": [
    {
     "data": {
      "text/html": [
       "<div>\n",
       "<style scoped>\n",
       "    .dataframe tbody tr th:only-of-type {\n",
       "        vertical-align: middle;\n",
       "    }\n",
       "\n",
       "    .dataframe tbody tr th {\n",
       "        vertical-align: top;\n",
       "    }\n",
       "\n",
       "    .dataframe thead th {\n",
       "        text-align: right;\n",
       "    }\n",
       "</style>\n",
       "<table border=\"1\" class=\"dataframe\">\n",
       "  <thead>\n",
       "    <tr style=\"text-align: right;\">\n",
       "      <th></th>\n",
       "      <th>SA2_CODE21</th>\n",
       "      <th>median_score</th>\n",
       "      <th>average_price</th>\n",
       "    </tr>\n",
       "  </thead>\n",
       "  <tbody>\n",
       "    <tr>\n",
       "      <th>0</th>\n",
       "      <td>201011002</td>\n",
       "      <td>32.423333</td>\n",
       "      <td>10107.5</td>\n",
       "    </tr>\n",
       "    <tr>\n",
       "      <th>1</th>\n",
       "      <td>201011008</td>\n",
       "      <td>32.550000</td>\n",
       "      <td>15520.0</td>\n",
       "    </tr>\n",
       "    <tr>\n",
       "      <th>2</th>\n",
       "      <td>201011483</td>\n",
       "      <td>27.640000</td>\n",
       "      <td>6250.0</td>\n",
       "    </tr>\n",
       "    <tr>\n",
       "      <th>3</th>\n",
       "      <td>201011484</td>\n",
       "      <td>28.270000</td>\n",
       "      <td>4365.0</td>\n",
       "    </tr>\n",
       "    <tr>\n",
       "      <th>4</th>\n",
       "      <td>201031016</td>\n",
       "      <td>28.090000</td>\n",
       "      <td>4250.0</td>\n",
       "    </tr>\n",
       "  </tbody>\n",
       "</table>\n",
       "</div>"
      ],
      "text/plain": [
       "  SA2_CODE21  median_score  average_price\n",
       "0  201011002     32.423333        10107.5\n",
       "1  201011008     32.550000        15520.0\n",
       "2  201011483     27.640000         6250.0\n",
       "3  201011484     28.270000         4365.0\n",
       "4  201031016     28.090000         4250.0"
      ]
     },
     "execution_count": 10,
     "metadata": {},
     "output_type": "execute_result"
    }
   ],
   "source": [
    "# Group by SA2_CODE21 and calculate the mean score and mean price\n",
    "grouped_df = schools_in_sa2.groupby('SA2_CODE21').agg({\n",
    "    'median_score': 'mean',\n",
    "    'average_price': 'mean'\n",
    "}).reset_index()\n",
    "\n",
    "# Display the grouped data\n",
    "grouped_df.head()"
   ]
  },
  {
   "cell_type": "code",
   "execution_count": 11,
   "metadata": {},
   "outputs": [
    {
     "data": {
      "text/plain": [
       "SA2_CODE21       189\n",
       "median_score     189\n",
       "average_price    189\n",
       "dtype: int64"
      ]
     },
     "execution_count": 11,
     "metadata": {},
     "output_type": "execute_result"
    }
   ],
   "source": [
    "grouped_df.count()"
   ]
  },
  {
   "cell_type": "code",
   "execution_count": 12,
   "metadata": {},
   "outputs": [],
   "source": [
    "grouped_df.to_csv(\"../../data/curated/schools.csv\", index=False)"
   ]
  }
 ],
 "metadata": {
  "kernelspec": {
   "display_name": "ADS",
   "language": "python",
   "name": "python3"
  },
  "language_info": {
   "codemirror_mode": {
    "name": "ipython",
    "version": 3
   },
   "file_extension": ".py",
   "mimetype": "text/x-python",
   "name": "python",
   "nbconvert_exporter": "python",
   "pygments_lexer": "ipython3",
   "version": "3.11.9"
  }
 },
 "nbformat": 4,
 "nbformat_minor": 2
}
