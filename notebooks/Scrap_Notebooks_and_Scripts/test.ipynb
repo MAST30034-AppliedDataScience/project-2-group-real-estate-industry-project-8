{
 "cells": [
  {
   "cell_type": "code",
   "execution_count": 1,
   "metadata": {},
   "outputs": [],
   "source": [
    "import geopandas as gpd\n",
    "import pandas as pd"
   ]
  },
  {
   "cell_type": "code",
   "execution_count": 7,
   "metadata": {},
   "outputs": [
    {
     "data": {
      "text/plain": [
       "array(['WATERWAY', 'ADMINISTRATIVE AREA', 'LANDFORM', 'WATERBODY',\n",
       "       'LEGAL', 'EDUCATION', 'EMERGENCY', 'AGRICULTURE', 'LANDMARK',\n",
       "       'ROAD', 'VEGETATION', 'ENERGY', 'HEALTH', 'RECREATION',\n",
       "       'WATER INFRASTRUCTURE', 'AIR', 'POPULATED PLACE',\n",
       "       'COMMUNITY FACILITY', 'WATER', 'PROTECTED AREA', 'EXTRACTION',\n",
       "       'PLACE OF WORSHIP', 'BUSINESS', 'COMMUNICATION', 'RAIL',\n",
       "       'UNDERSEA', 'WATER POINT', 'UNCLASSIFIED', 'TRAIL',\n",
       "       'ACCOMMODATION', 'WASTE', 'COMMUNITY LIVING', 'PROCESSING',\n",
       "       'ICE FEATURE', 'OBSERVATION', 'INDUSTRY', 'TOURISM', 'CARE',\n",
       "       'DEFENCE', 'MINERAL FIELD', 'REGION', 'UNDER ICE'], dtype=object)"
      ]
     },
     "execution_count": 7,
     "metadata": {},
     "output_type": "execute_result"
    }
   ],
   "source": [
    "place_names = gpd.read_file(\"../../data/landing/PlaceNames.gpkg\")\n",
    "\n",
    "\n",
    "\n",
    "place_names.CATEGORY.unique()"
   ]
  },
  {
   "cell_type": "code",
   "execution_count": 4,
   "metadata": {},
   "outputs": [
    {
     "name": "stderr",
     "output_type": "stream",
     "text": [
      "/var/folders/vs/mmhmvz2124bdlbwz4b6zdqqh0000gn/T/ipykernel_21532/225207906.py:1: UserWarning: Geometry is in a geographic CRS. Results from 'length' are likely incorrect. Use 'GeoSeries.to_crs()' to re-project geometries to a projected CRS before this operation.\n",
      "\n",
      "  place_names.length\n"
     ]
    },
    {
     "data": {
      "text/plain": [
       "0         0.0\n",
       "1         0.0\n",
       "2         0.0\n",
       "3         0.0\n",
       "4         0.0\n",
       "         ... \n",
       "295522    0.0\n",
       "295523    0.0\n",
       "295524    0.0\n",
       "295525    0.0\n",
       "295526    0.0\n",
       "Length: 295527, dtype: float64"
      ]
     },
     "execution_count": 4,
     "metadata": {},
     "output_type": "execute_result"
    }
   ],
   "source": [
    "place_names.length"
   ]
  }
 ],
 "metadata": {
  "kernelspec": {
   "display_name": "ADS",
   "language": "python",
   "name": "python3"
  },
  "language_info": {
   "codemirror_mode": {
    "name": "ipython",
    "version": 3
   },
   "file_extension": ".py",
   "mimetype": "text/x-python",
   "name": "python",
   "nbconvert_exporter": "python",
   "pygments_lexer": "ipython3",
   "version": "3.11.9"
  }
 },
 "nbformat": 4,
 "nbformat_minor": 2
}
