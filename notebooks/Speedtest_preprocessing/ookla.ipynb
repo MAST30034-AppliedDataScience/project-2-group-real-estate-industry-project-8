{
 "cells": [
  {
   "cell_type": "code",
   "execution_count": 1,
   "metadata": {},
   "outputs": [],
   "source": [
    "from datetime import datetime\n",
    "\n",
    "import geopandas as gp\n",
    "import matplotlib\n",
    "import matplotlib.pyplot as plt\n",
    "import pandas as pd\n",
    "import numpy as np"
   ]
  },
  {
   "cell_type": "code",
   "execution_count": 2,
   "metadata": {},
   "outputs": [],
   "source": [
    "\n",
    "\n",
    "def quarter_start(year: int, q: int) -> datetime:\n",
    "    if not 1 <= q <= 4:\n",
    "        raise ValueError(\"Quarter must be within [1, 2, 3, 4]\")\n",
    "\n",
    "    month = [1, 4, 7, 10]\n",
    "    return datetime(year, month[q - 1], 1)\n",
    "\n",
    "def get_tile_url(service_type: str, year: int, q: int) -> str:\n",
    "    dt = quarter_start(year, q)\n",
    "\n",
    "    base_url = \"https://ookla-open-data.s3-us-west-2.amazonaws.com/shapefiles/performance\"\n",
    "    url = f\"{base_url}/type%3D{service_type}/year%3D{dt:%Y}/quarter%3D{q}/{dt:%Y-%m-%d}_performance_{service_type}_tiles.zip\"\n",
    "    return url"
   ]
  },
  {
   "cell_type": "code",
   "execution_count": 3,
   "metadata": {},
   "outputs": [],
   "source": [
    "years = [2019,2020,2021,2022,2023]"
   ]
  },
  {
   "cell_type": "code",
   "execution_count": 4,
   "metadata": {},
   "outputs": [],
   "source": [
    "SAL = gp.read_file('../../data/landing/SAL_data/SAL_2021_AUST_GDA2020.shp')\n",
    "SAL = SAL[SAL[\"STE_NAME21\"] == \"Victoria\"]"
   ]
  },
  {
   "cell_type": "code",
   "execution_count": 5,
   "metadata": {},
   "outputs": [
    {
     "ename": "SyntaxError",
     "evalue": "invalid syntax. Perhaps you forgot a comma? (2856448408.py, line 13)",
     "output_type": "error",
     "traceback": [
      "\u001b[0;36m  Cell \u001b[0;32mIn[5], line 13\u001b[0;36m\u001b[0m\n\u001b[0;31m    tiles_in_SA2.groupby(\"SAL_CODE21\")\u001b[0m\n\u001b[0m    ^\u001b[0m\n\u001b[0;31mSyntaxError\u001b[0m\u001b[0;31m:\u001b[0m invalid syntax. Perhaps you forgot a comma?\n"
     ]
    }
   ],
   "source": [
    "for year in years:\n",
    "    print(year)\n",
    "    tile_url = get_tile_url(\"fixed\", year, 4)\n",
    "    tiles = gp.read_file(tile_url)\n",
    "\n",
    "    tiles = tiles.to_crs(SAL.crs)\n",
    "    tiles_in_SA2 = gp.sjoin(SAL, tiles , how=\"inner\", predicate=\"intersects\")\n",
    "\n",
    "    tiles_in_SA2['avg_d_mbps'] = tiles_in_SA2['avg_d_kbps'] / 1000\n",
    "    tiles_in_SA2['avg_u_mbps'] = tiles_in_SA2['avg_u_kbps'] / 1000\n",
    "\n",
    "    SA2_stats = (\n",
    "    tiles_in_SA2.groupby(\"SAL_CODE21\")\n",
    "    .apply(\n",
    "        lambda x: pd.Series(\n",
    "            {\"avg_d_mbps_wt\": np.average(x[\"avg_d_mbps\"], weights=x[\"tests\"])}\n",
    "        )\n",
    "    )\n",
    "    .reset_index()\n",
    "    .merge(\n",
    "        tiles_in_SA2.groupby(\"SAL_CODE21\")\n",
    "        .agg(tests=(\"tests\", \"sum\"))\n",
    "        .reset_index(),\n",
    "        on=\"SAL_CODE21\",\n",
    "    )\n",
    "\n",
    "\n",
    "    )\n",
    "    SA2_stats.rename(columns={SA2_stats.columns[0]: \"SA2_CODE\"}, inplace=True)\n",
    "    # save the data\n",
    "    SA2_stats.to_csv(f\"../../data/curated/{year}_fixed_broadband.csv\", index=False)\n"
   ]
  }
 ],
 "metadata": {
  "kernelspec": {
   "display_name": "ADS",
   "language": "python",
   "name": "python3"
  },
  "language_info": {
   "codemirror_mode": {
    "name": "ipython",
    "version": 3
   },
   "file_extension": ".py",
   "mimetype": "text/x-python",
   "name": "python",
   "nbconvert_exporter": "python",
   "pygments_lexer": "ipython3",
   "version": "3.11.9"
  }
 },
 "nbformat": 4,
 "nbformat_minor": 2
}
