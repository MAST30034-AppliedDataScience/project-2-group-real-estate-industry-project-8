{
 "cells": [
  {
   "cell_type": "code",
   "execution_count": 1,
   "metadata": {},
   "outputs": [],
   "source": [
    "# read data\n",
    "import pandas as pd\n",
    "import geopandas as gpd\n"
   ]
  },
  {
   "cell_type": "code",
   "execution_count": 2,
   "metadata": {},
   "outputs": [],
   "source": [
    "SAL_boundaries = gpd.read_file('../../data/landing/SAL_data/SAL_2021_AUST_GDA2020.shp')\n",
    "\n",
    "SAL_boundaries = SAL_boundaries[SAL_boundaries['STE_NAME21'] == 'Victoria']\n"
   ]
  },
  {
   "cell_type": "code",
   "execution_count": 3,
   "metadata": {},
   "outputs": [],
   "source": [
    "import os"
   ]
  },
  {
   "cell_type": "code",
   "execution_count": 5,
   "metadata": {},
   "outputs": [
    {
     "name": "stderr",
     "output_type": "stream",
     "text": [
      "/opt/anaconda3/envs/ADS/lib/python3.11/site-packages/pyogrio/raw.py:196: RuntimeWarning: Several features with id = 97195434 have been found. Altering it to be unique. This warning will not be emitted anymore for this layer\n",
      "  return ogr_read(\n"
     ]
    },
    {
     "name": "stdout",
     "output_type": "stream",
     "text": [
      "Finished 2016\n"
     ]
    },
    {
     "name": "stderr",
     "output_type": "stream",
     "text": [
      "/opt/anaconda3/envs/ADS/lib/python3.11/site-packages/pyogrio/raw.py:196: RuntimeWarning: Several features with id = 97195434 have been found. Altering it to be unique. This warning will not be emitted anymore for this layer\n",
      "  return ogr_read(\n"
     ]
    },
    {
     "name": "stdout",
     "output_type": "stream",
     "text": [
      "Finished 2017\n"
     ]
    },
    {
     "name": "stderr",
     "output_type": "stream",
     "text": [
      "/opt/anaconda3/envs/ADS/lib/python3.11/site-packages/pyogrio/raw.py:196: RuntimeWarning: Several features with id = 97195434 have been found. Altering it to be unique. This warning will not be emitted anymore for this layer\n",
      "  return ogr_read(\n"
     ]
    },
    {
     "name": "stdout",
     "output_type": "stream",
     "text": [
      "Finished 2018\n"
     ]
    },
    {
     "name": "stderr",
     "output_type": "stream",
     "text": [
      "/opt/anaconda3/envs/ADS/lib/python3.11/site-packages/pyogrio/raw.py:196: RuntimeWarning: Several features with id = 97195434 have been found. Altering it to be unique. This warning will not be emitted anymore for this layer\n",
      "  return ogr_read(\n"
     ]
    },
    {
     "name": "stdout",
     "output_type": "stream",
     "text": [
      "Finished 2019\n"
     ]
    },
    {
     "name": "stderr",
     "output_type": "stream",
     "text": [
      "/opt/anaconda3/envs/ADS/lib/python3.11/site-packages/pyogrio/raw.py:196: RuntimeWarning: Several features with id = 97195434 have been found. Altering it to be unique. This warning will not be emitted anymore for this layer\n",
      "  return ogr_read(\n"
     ]
    },
    {
     "name": "stdout",
     "output_type": "stream",
     "text": [
      "Finished 2020\n"
     ]
    },
    {
     "name": "stderr",
     "output_type": "stream",
     "text": [
      "/opt/anaconda3/envs/ADS/lib/python3.11/site-packages/pyogrio/raw.py:196: RuntimeWarning: Several features with id = 97195434 have been found. Altering it to be unique. This warning will not be emitted anymore for this layer\n",
      "  return ogr_read(\n"
     ]
    },
    {
     "name": "stdout",
     "output_type": "stream",
     "text": [
      "Finished 2021\n"
     ]
    },
    {
     "name": "stderr",
     "output_type": "stream",
     "text": [
      "/opt/anaconda3/envs/ADS/lib/python3.11/site-packages/pyogrio/raw.py:196: RuntimeWarning: Several features with id = 97195434 have been found. Altering it to be unique. This warning will not be emitted anymore for this layer\n",
      "  return ogr_read(\n"
     ]
    },
    {
     "name": "stdout",
     "output_type": "stream",
     "text": [
      "Finished 2022\n"
     ]
    },
    {
     "name": "stderr",
     "output_type": "stream",
     "text": [
      "/opt/anaconda3/envs/ADS/lib/python3.11/site-packages/pyogrio/raw.py:196: RuntimeWarning: Several features with id = 1082607539 have been found. Altering it to be unique. This warning will not be emitted anymore for this layer\n",
      "  return ogr_read(\n"
     ]
    },
    {
     "name": "stdout",
     "output_type": "stream",
     "text": [
      "Finished 2023\n"
     ]
    }
   ],
   "source": [
    "os.makedirs(\"../../data/curated/business_data\", exist_ok=True)\n",
    "\n",
    "for year in [2016, 2017, 2018, 2019, 2020, 2021, 2022, 2023]:\n",
    "    gdf = gpd.read_file(f'../../data/landing/osm_data/features_{year}.geojson').to_crs(SAL_boundaries.crs)\n",
    "    businesses_SAL = gpd.sjoin(gdf, SAL_boundaries, how='inner')\n",
    "\n",
    "    pivot_table = businesses_SAL.pivot_table(index='SAL_CODE21', columns='feature_type', aggfunc='size', fill_value=0)\n",
    "\n",
    "    pivot_table\n",
    "\n",
    "    # BEGIN: reset index\n",
    "    pivot_table = pivot_table.reset_index()\n",
    "\n",
    "    # rename columns\n",
    "    pivot_table.rename(columns={'SAL_CODE21': 'SAL_CODE'}, inplace=True)\n",
    "\n",
    "    pivot_table.to_csv(f'../../data/curated/business_data/osm_data_{year}.csv', index=False)\n",
    "\n",
    "    print(f'Finished {year}')"
   ]
  }
 ],
 "metadata": {
  "kernelspec": {
   "display_name": "ADS",
   "language": "python",
   "name": "python3"
  },
  "language_info": {
   "codemirror_mode": {
    "name": "ipython",
    "version": 3
   },
   "file_extension": ".py",
   "mimetype": "text/x-python",
   "name": "python",
   "nbconvert_exporter": "python",
   "pygments_lexer": "ipython3",
   "version": "3.11.9"
  }
 },
 "nbformat": 4,
 "nbformat_minor": 2
}
