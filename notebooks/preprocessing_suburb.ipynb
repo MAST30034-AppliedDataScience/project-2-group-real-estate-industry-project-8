{
 "cells": [
  {
   "cell_type": "code",
   "execution_count": null,
   "metadata": {},
   "outputs": [],
   "source": [
    "import json\n",
    "from pyspark.sql import SparkSession\n",
    "from pyspark.sql.types import StructType, StructField, StringType, ArrayType, DoubleType, IntegerType\n",
    "from pyspark.sql.functions import col, regexp_extract, expr, lower\n",
    "\n",
    "# Initialize SparkSession\n",
    "spark = SparkSession.builder.appName(\"LoadJSON\").getOrCreate()\n",
    "\n",
    "# Suppose your JSON data is stored in a file named 'data.json'\n",
    "# Ensure that your JSON data is properly formatted and valid\n",
    "with open('../data/raw/property_metadata.json', 'r') as file:\n",
    "    data = json.load(file)\n",
    "\n",
    "# Transform the data into a list of dictionaries\n",
    "rows = []\n",
    "for url, details in data.items():\n",
    "    row = {'url': url}\n",
    "    row.update(details)\n",
    "    # Convert 'latitude' and 'longitude' to float or None if not found or 'Not found'\n",
    "    row['latitude'] = (\n",
    "        float(row['latitude']) if 'latitude' in row and row['latitude'] != 'Not found' else None\n",
    "    )\n",
    "    row['longitude'] = (\n",
    "        float(row['longitude']) if 'longitude' in row and row['longitude'] != 'Not found' else None\n",
    "    )\n",
    "    \n",
    "    rows.append(row)\n",
    "\n",
    "# Define the schema with columns in the desired order, including latitude and longitude\n",
    "schema = StructType([\n",
    "    StructField('url', StringType(), True),\n",
    "    StructField('name', StringType(), True),\n",
    "    StructField('suburb', StringType(), True),\n",
    "    StructField('cost_text', StringType(), True),\n",
    "    StructField('rooms', ArrayType(StringType()), True),\n",
    "    StructField('parking', ArrayType(StringType()), True),\n",
    "    StructField('desc', StringType(), True),\n",
    "    StructField('latitude', DoubleType(), True),\n",
    "    StructField('longitude', DoubleType(), True),\n",
    "])\n",
    "\n",
    "# Create the DataFrame with the defined schema\n",
    "df = spark.createDataFrame(rows, schema=schema)\n",
    "\n",
    "# Show the DataFrame\n",
    "df.show(truncate=False)"
   ]
  },
  {
   "cell_type": "code",
   "execution_count": 4,
   "metadata": {},
   "outputs": [],
   "source": [
    "\n",
    "# Extract 'beds' and 'baths' from 'rooms' field\n",
    "# Use expr to filter array elements and regexp_extract to get numbers\n",
    "\n",
    "# Extract 'beds'\n",
    "df = df.withColumn('beds_str', expr(\"filter(rooms, x -> x like '%Bed%')[0]\"))\n",
    "df = df.withColumn('beds', regexp_extract(col('beds_str'), '(\\\\d+)', 1).cast(IntegerType()))\n",
    "\n",
    "# Extract 'baths'\n",
    "df = df.withColumn('baths_str', expr(\"filter(rooms, x -> x like '%Bath%')[0]\"))\n",
    "df = df.withColumn('baths', regexp_extract(col('baths_str'), '(\\\\d+)', 1).cast(IntegerType()))\n",
    "\n",
    "# Drop temporary columns\n",
    "df = df.drop('beds_str', 'baths_str')\n",
    "\n",
    "# Optionally, drop the 'rooms' column if no longer needed\n",
    "# df = df.drop('rooms')"
   ]
  },
  {
   "cell_type": "code",
   "execution_count": 5,
   "metadata": {},
   "outputs": [],
   "source": [
    "df = df.filter(~lower(col('desc')).contains('storage'))"
   ]
  },
  {
   "cell_type": "code",
   "execution_count": null,
   "metadata": {},
   "outputs": [],
   "source": [
    "df.show(truncate=False)"
   ]
  },
  {
   "cell_type": "code",
   "execution_count": null,
   "metadata": {},
   "outputs": [],
   "source": [
    "import folium\n",
    "import pandas as pd\n",
    "\n",
    "# Convert the PySpark DataFrame to Pandas\n",
    "pandas_df = df.toPandas()\n",
    "\n",
    "# Drop rows with NaN values in latitude or longitude\n",
    "pandas_df = pandas_df.dropna(subset=['latitude', 'longitude'])\n",
    "\n",
    "# Create a map centered around the mean latitude and longitude of the remaining points\n",
    "map_center = [pandas_df['latitude'].mean(), pandas_df['longitude'].mean()]\n",
    "my_map = folium.Map(location=map_center, zoom_start=50)\n",
    "\n",
    "# Add markers for each property\n",
    "for _, row in pandas_df.iterrows():\n",
    "    folium.Marker(\n",
    "        location=[row['latitude'], row['longitude']],\n",
    "        popup=row['name'],\n",
    "        icon=folium.Icon(color=\"blue\", icon=\"info-sign\")\n",
    "    ).add_to(my_map)\n",
    "\n",
    "# Display the map\n",
    "# my_map"
   ]
  },
  {
   "cell_type": "code",
   "execution_count": null,
   "metadata": {},
   "outputs": [],
   "source": []
  }
 ],
 "metadata": {
  "kernelspec": {
   "display_name": "Python 3",
   "language": "python",
   "name": "python3"
  },
  "language_info": {
   "codemirror_mode": {
    "name": "ipython",
    "version": 3
   },
   "file_extension": ".py",
   "mimetype": "text/x-python",
   "name": "python",
   "nbconvert_exporter": "python",
   "pygments_lexer": "ipython3",
   "version": "3.10.12"
  }
 },
 "nbformat": 4,
 "nbformat_minor": 2
}
